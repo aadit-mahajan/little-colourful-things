{
 "cells": [
  {
   "cell_type": "code",
   "execution_count": null,
   "metadata": {},
   "outputs": [],
   "source": [
    "import numpy as np\n",
    "import tensorflow as tf\n",
    "import tensorflow.keras.applications.mobilenet\n",
    "from tensorflow.keras.optimizers import Adam\n",
    "from tensorflow.keras import layers\n",
    "\n",
    "import keras\n",
    "import keras.utils as utils\n",
    "from keras.layers import Activation, Dropout, Convolution2D, GlobalAveragePooling2D\n",
    "from keras.models import Sequential\n",
    "\n",
    "import os\n",
    "import matplotlib.pyplot as plt\n",
    "import random\n"
   ]
  },
  {
   "cell_type": "code",
   "execution_count": null,
   "metadata": {},
   "outputs": [],
   "source": [
    "IMG_SAVE_PATH = r'/Users/aaditmahajan/Documents/segregation_data'\n",
    "\n",
    "Str_to_Int = {\n",
    "    'normal'    :0,\n",
    "    'cco'       :1,\n",
    "    'mi_rs'     :2,\n",
    "    'mi_ndj'    :3,\n",
    "    'mi_pssc'   :4,\n",
    "    'mii_pssc'  :5\n",
    "}\n",
    "\n",
    "NUM_CLASSES = 6\n",
    "\n",
    "def Str_to_Int_mapper(val):\n",
    "    return Str_to_Int[val]\n"
   ]
  },
  {
   "cell_type": "code",
   "execution_count": null,
   "metadata": {},
   "outputs": [],
   "source": [
    "import cv2\n",
    "import PIL\n",
    "\n",
    "dataset = []\n",
    "\n",
    "for directory in os.listdir(IMG_SAVE_PATH):\n",
    "    path = os.path.join(IMG_SAVE_PATH, directory)\n",
    "    if os.path.isdir(path) == True:\n",
    "        for image in os.listdir(path):\n",
    "\n",
    "            new_path = os.path.join(path, image)\n",
    "\n",
    "            try:\n",
    "                imgpath = PIL.Image.open(new_path)\n",
    "                # print(imgpath)\n",
    "                imgpath = imgpath.convert('RGB')\n",
    "                img = np.asarray(imgpath)\n",
    "                img = cv2.resize(img, (240, 240))\n",
    "                img = img/255\n",
    "                dataset.append([img, directory])\n",
    "            except PIL.UnidentifiedImageError:\n",
    "                print('error: skipped image')\n",
    "\n",
    "data, labels = zip(*dataset)\n",
    "temp = list(map(Str_to_Int_mapper, labels))\n",
    "print(temp)\n",
    "labels = keras.utils.to_categorical(temp)\n",
    "# labels = tf.one_hot(labels, depth=2)\n",
    "# print(labels)\n"
   ]
  },
  {
   "cell_type": "code",
   "execution_count": null,
   "metadata": {},
   "outputs": [],
   "source": [
    "indices = random.sample(range(len(data)), 9)\n",
    "\n",
    "images = np.array(data)[indices]\n",
    "label = np.array(temp)[indices]\n",
    "\n",
    "fig, axes = plt.subplots(nrows=3, ncols=3, figsize=(10, 10))\n",
    "\n",
    "for i, ax in enumerate(axes.flat):\n",
    "    # print(i)\n",
    "    ax.imshow(images[i])\n",
    "    # print(label[i])\n",
    "\n",
    "\n",
    "    if label[i] == 0:\n",
    "        ax.set_title('normal')\n",
    "    elif label[i] == 1:\n",
    "        ax.set_title('cco')\n",
    "    elif label[i] == 2:\n",
    "        ax.set_title('mi_rs')\n",
    "    elif label[i] == 3:\n",
    "        ax.set_title('mi_ndj')\n",
    "    elif label[i] == 4:\n",
    "        ax.set_title('mi_pssc')\n",
    "    elif label[i] == 5:\n",
    "        ax.set_title('mii_pssc')\n",
    "    else:\n",
    "        print('label error')\n",
    "    ax.axis('off')\n",
    "plt.show()\n",
    "\n"
   ]
  },
  {
   "cell_type": "code",
   "execution_count": null,
   "metadata": {},
   "outputs": [],
   "source": [
    "import numpy as np\n",
    "import pandas as pd\n",
    "import torch\n",
    "import torchvision\n",
    "import sys\n",
    "import matplotlib.pyplot as plt\n",
    "\n",
    "\n",
    "print(torch.__version__)\n",
    "print(torchvision.__version__)\n",
    "print(torch.cuda.is_available())"
   ]
  },
  {
   "cell_type": "code",
   "execution_count": null,
   "metadata": {},
   "outputs": [],
   "source": [
    "def show_anns(anns):\n",
    "    if len(anns) == 0:\n",
    "        return\n",
    "    sorted_anns = sorted(anns, key=(lambda x:x['area']), reverse=True)\n",
    "    ax = plt.gca()\n",
    "    # ax.set_autoscale_on(False)\n",
    "    polygons = []\n",
    "    color = []\n",
    "    for ann in sorted_anns:\n",
    "        m = ann['segmentation']\n",
    "        img = np.ones((m.shape[0], m.shape[1], 3))\n",
    "        color_mask = np.random.random((1, 3)).tolist()[0]\n",
    "        for i in range(3):\n",
    "            img[:,:,i] = color_mask[i]\n",
    "        ax.imshow(np.dstack((img, m*0.35)))\n"
   ]
  },
  {
   "cell_type": "code",
   "execution_count": null,
   "metadata": {},
   "outputs": [],
   "source": [
    "from segment_anything import sam_model_registry, SamAutomaticMaskGenerator, SamPredictor\n",
    "sam_checkpoint = \"/content/drive/MyDrive/documents/sam_vit_h_4b8939.pth\"\n",
    "model_type = \"vit_h\"\n",
    "device = 'cuda'\n",
    "sam = sam_model_registry[model_type](checkpoint=sam_checkpoint)\n",
    "sam.to(device=device)"
   ]
  },
  {
   "cell_type": "code",
   "execution_count": null,
   "metadata": {},
   "outputs": [],
   "source": [
    "mask_generator = SamAutomaticMaskGenerator(\n",
    "    model=sam,\n",
    "    points_per_side = 12,\n",
    "    pred_iou_thresh = 0.9,\n",
    "    stability_score_thresh=0.92,\n",
    "    crop_n_layers=1,\n",
    "    min_mask_region_area=1000,\n",
    "    crop_n_points_downscale_factor=2\n",
    ")\n",
    "\n",
    "# mask_generator = SamAutomaticMaskGenerator(sam)"
   ]
  },
  {
   "cell_type": "code",
   "execution_count": null,
   "metadata": {},
   "outputs": [],
   "source": [
    "from glob import glob\n",
    "from PIL import Image, ImageOps\n",
    "import cv2\n",
    "\n",
    "patch_paths = glob('/content/drive/MyDrive/2.png')\n",
    "# remember to change patch_paths call to array call later\n",
    "\n",
    "# for ii in range(len(patch_paths)):\n",
    "ii = 0\n",
    "image = cv2.imread(patch_paths[ii])\n",
    "masks = mask_generator.generate(image)\n",
    "print(ii, patch_paths[ii])\n",
    "print('No of detected cells = ', len(masks))\n",
    "plt.figure(figsize=(8, 5))\n",
    "plt.subplot(121)\n",
    "plt.axis('off')\n",
    "plt.subplot(122)\n",
    "plt.imshow(image)\n",
    "show_anns(masks)\n",
    "plt.axis('off')\n",
    "plt.show()\n",
    "\n",
    "\n"
   ]
  },
  {
   "cell_type": "code",
   "execution_count": null,
   "metadata": {},
   "outputs": [],
   "source": [
    "import cv2\n",
    "\n",
    "image = cv2.imread('/content/drive/MyDrive/2.png')\n",
    "\n",
    "\n",
    "# blurred = cv2.GaussianBlur(image, (5, 5), 0)\n",
    "# plt.imshow(blurred)\n",
    "# plt.show()\n",
    "\n",
    "# hsv = cv2.cvtColor(image, cv2.COLOR_BGR2HSV)\n",
    "# result = image.copy()\n",
    "# lower1 = np.array([0, 100, 20])\n",
    "# upper1 = np.array([10, 255, 255])\n",
    "\n",
    "# lower2 = np.array([160,100,20])\n",
    "# upper2 = np.array([179,255,255])\n",
    "\n",
    "# lower_mask = cv2.inRange(hsv, lower1, upper1)\n",
    "# upper_mask = cv2.inRange(hsv, lower2, upper2)\n",
    "\n",
    "# full_mask = lower_mask + upper_mask\n",
    "\n",
    "# result_blue = cv2.bitwise_and(result, result, mask = full_mask)\n",
    "\n",
    "# plt.imshow(full_mask, cmap = 'gray')\n",
    "# plt.show()\n",
    "# plt.imshow(result_blue, cmap = 'gray')\n",
    "# plt.show()"
   ]
  },
  {
   "cell_type": "code",
   "execution_count": null,
   "metadata": {},
   "outputs": [],
   "source": [
    "# lower_blue = np.array([100, 100, 20])\n",
    "# upper_blue = np.array([140, 255, 255])\n",
    "\n",
    "# mask_blue = cv2.inRange(hsv, lower_blue, upper_blue)\n",
    "\n",
    "# result_red = cv2.bitwise_and(image, image, mask = mask_blue)\n",
    "# spores = result_red + result_blue\n",
    "\n",
    "# plt.imshow(image, cmap = 'gray')\n",
    "# plt.show()\n",
    "# plt.imshow(result_red, cmap = 'gray')\n",
    "# plt.show()\n",
    "\n",
    "# plt.imshow(spores, cmap='gray')\n",
    "# plt.show()\n",
    "\n",
    "# spores = cv2.dilate(spores, kernel=cv2.getStructuringElement(cv2.MORPH_DILATE, (5,5)), iterations=1)\n",
    "# plt.imshow(spores)\n",
    "# plt.show()"
   ]
  },
  {
   "cell_type": "code",
   "execution_count": null,
   "metadata": {},
   "outputs": [],
   "source": [
    "# cell = spores\n",
    "# plt.imshow(cell)\n",
    "# plt.show()\n",
    "# sobelxc = cv2.Sobel(cell,cv2.CV_64F,1,0,ksize=5)\n",
    "# sobelyc = cv2.Sobel(cell,cv2.CV_64F,0,1,ksize=5)\n",
    "# cell = sobelxc + sobelyc\n",
    "\n",
    "edges = cv2.Canny(image,500,50)\n",
    "# edges = cv2.erode(edges, kernel = cv2.getStructuringElement(cv2.MORPH_ERODE, (3, 3)), iterations=1)\n",
    "\n",
    "plt.subplot(121),plt.imshow(image,cmap = 'gray')\n",
    "plt.title('Original Image'), plt.xticks([]), plt.yticks([])\n",
    "plt.subplot(122),plt.imshow(edges,cmap = 'gray')\n",
    "plt.title('Edge Image'), plt.xticks([]), plt.yticks([])\n",
    "\n",
    "plt.show()"
   ]
  },
  {
   "cell_type": "code",
   "execution_count": null,
   "metadata": {},
   "outputs": [],
   "source": [
    "edges_3d_array = np.zeros((1080, 1080, 3))\n",
    "for i in range(3):\n",
    "  edges_3d_array[:, :, i] = edges\n",
    "\n",
    "edges_3d_array = cv2.GaussianBlur(edges_3d_array, (3, 3), 0)\n",
    "plt.imshow(edges_3d_array)\n",
    "\n",
    "plt.show()"
   ]
  },
  {
   "cell_type": "code",
   "execution_count": null,
   "metadata": {},
   "outputs": [],
   "source": [
    "# import pyclesperanto_prototype as cle\n",
    "from skimage.io import imshow\n",
    "# cle.select_device('cupy')\n",
    "\n",
    "# binarized = cle.threshold_otsu(cv2.cvtColor(spores, cv2.COLOR_BGR2GRAY))\n",
    "# imshow(binarized)\n",
    "# binary_blur = cle.gaussian_blur(binarized, sigma_x=0.72, sigma_y=0.72, sigma_z=0.72)\n",
    "#labels = cle.connected_components_labeling_box(binary_blur)\n",
    "#labels\n",
    "masks2 = mask_generator.generate(np.asarray(edges_3d_array, dtype='uint8'))\n",
    "print('No of detected cells = ', len(masks2))\n",
    "plt.figure(figsize=(8, 5))\n",
    "plt.subplot(121)\n",
    "plt.axis('off')\n",
    "plt.subplot(122)\n",
    "plt.imshow(edges_3d_array)\n",
    "show_anns(masks2)\n",
    "plt.axis('off')\n",
    "plt.show()\n"
   ]
  },
  {
   "cell_type": "code",
   "execution_count": null,
   "metadata": {},
   "outputs": [],
   "source": [
    "cropped_rois = []\n",
    "individual_cells = []\n",
    "clusters = []\n",
    "for i in range(len(masks2)):\n",
    "    x=int(masks2[i]['bbox'][0])\n",
    "    y=int(masks2[i]['bbox'][1])\n",
    "    a=int(masks2[i]['bbox'][2])\n",
    "    b=int(masks2[i]['bbox'][3])\n",
    "    cropped_im = image[y:y+b, x:x+a, :]\n",
    "    cropped_rois.append(cropped_im)\n",
    "    cropped_mask = masks2[i]['segmentation'][y:y+b, x:x+a]\n",
    "    plt.figure(figsize=(4,3))\n",
    "    plt.subplot(121)\n",
    "    plt.imshow(cropped_im)\n",
    "    plt.axis('off')\n",
    "    plt.subplot(122)\n",
    "    plt.imshow(cropped_mask)\n",
    "    plt.axis('off')\n",
    "    plt.show()\n",
    "    plt.figure(figsize=(4,4))\n",
    "    plt.imshow(masks2[i]['segmentation'])\n",
    "    plt.axis('off')\n",
    "    plt.show()\n",
    "    print(\"---\")\n",
    "    print(\"image no. \", str(i))\n",
    "    print(\"Area: \", masks2[i]['area'])\n",
    "    print(\"predicted_iou: \", masks2[i]['predicted_iou'])\n",
    "    print(\"stability_score: \", masks2[i]['stability_score'])\n",
    "    print(\"-----------------------------------------------------------------\")\n",
    "    area = masks2[i]['area']\n",
    "    if area in range(2000, 3000):\n",
    "      individual_cells.append(cropped_im)\n",
    "    elif area > 3000:\n",
    "      clusters.append(cropped_im)\n",
    "    else:\n",
    "      continue"
   ]
  },
  {
   "cell_type": "code",
   "execution_count": null,
   "metadata": {},
   "outputs": [],
   "source": [
    "for cluster in clusters:\n",
    "  plt.imshow(cluster)\n",
    "  plt.show()"
   ]
  },
  {
   "cell_type": "code",
   "execution_count": null,
   "metadata": {},
   "outputs": [],
   "source": [
    "ind_cell_mask_gen = SamAutomaticMaskGenerator(\n",
    "    model=sam,\n",
    "    points_per_side = 7,\n",
    "    pred_iou_thresh = 0.8,\n",
    "    stability_score_thresh=0.8,\n",
    "    crop_n_layers=1,\n",
    "    min_mask_region_area=4000,\n",
    "    crop_n_points_downscale_factor=2\n",
    ")\n",
    "\n",
    "for cluster in clusters:\n",
    "\n",
    "  mask_cluster = ind_cell_mask_gen.generate(np.asarray(cluster, dtype='uint8'))\n",
    "  print('no of detected cells in cluster = ', len(mask_cluster))\n",
    "  plt.imshow(cluster)\n",
    "  show_anns(mask_cluster)\n",
    "  plt.show()\n",
    "  for j in range(len(mask_cluster)):\n",
    "    x=int(mask_cluster[j]['bbox'][0])\n",
    "    y=int(mask_cluster[j]['bbox'][1])\n",
    "    a=int(mask_cluster[j]['bbox'][2])\n",
    "    b=int(mask_cluster[j]['bbox'][3])\n",
    "    cropped_im = cluster[y:y+b, x:x+a, :]\n",
    "    area = mask_cluster[j]['area']\n",
    "    if area in range(1500, 3000):\n",
    "      individual_cells.append(cropped_im)\n",
    "      print('added to individual cells array....')\n",
    "      plt.imshow(cropped_im)\n",
    "      plt.show()\n",
    "\n",
    "# for roi in cropped_rois:\n",
    "\n",
    "#   masks_ind = ind_cell_mask_gen.generate(np.asarray(roi, dtype='uint8'))\n",
    "#   print('No of detected cells = ', len(masks_ind))\n",
    "#   mask_index_delete = []\n",
    "#   if len(masks_ind) == 1:\n",
    "#     individual_cells.append(roi)\n",
    "\n",
    "#   else:\n",
    "#     # find masks that are spore sized and neglect them\n",
    "#     for i in range(len(masks_ind)):\n",
    "#       if masks_ind[i]['area'] < 500:\n",
    "#         mask_index_delete.append(i)\n",
    "#       else:\n",
    "#         x=int(masks_ind[i]['bbox'][0])\n",
    "#         y=int(masks_ind[i]['bbox'][1])\n",
    "#         a=int(masks_ind[i]['bbox'][2])\n",
    "#         b=int(masks_ind[i]['bbox'][3])\n",
    "#         cropped_im = image[y:y+b, x:x+a, :]\n",
    "#         clusters.append(cropped_im)\n",
    "\n",
    "  # plt.figure(figsize=(8, 5))\n",
    "  # plt.subplot(121)\n",
    "  # plt.axis('off')\n",
    "  # plt.subplot(122)\n",
    "\n",
    "\n",
    "\n",
    "\n",
    "\n",
    "\n"
   ]
  },
  {
   "cell_type": "code",
   "execution_count": null,
   "metadata": {},
   "outputs": [],
   "source": [
    "for image in individual_cells:\n",
    "  plt.imshow(image)\n",
    "  plt.show()"
   ]
  },
  {
   "cell_type": "code",
   "execution_count": 28,
   "metadata": {},
   "outputs": [
    {
     "data": {
      "image/png": "[encoded data removed]",
      "text/plain": [
       "<Figure size 640x480 with 1 Axes>"
      ]
     },
     "metadata": {},
     "output_type": "display_data"
    }
   ],
   "source": [
    "import os\n",
    "import cv2\n",
    "import PIL\n",
    "import matplotlib.pyplot as plt\n",
    "import numpy as np\n",
    "import imutils\n",
    "image = cv2.imread('/Users/aaditmahajan/Documents/segregation_data/mi_pssc/0316-0525.png')\n",
    "plt.imshow(image)\n",
    "\n",
    "plt.show()"
   ]
  },
  {
   "cell_type": "code",
   "execution_count": 30,
   "metadata": {},
   "outputs": [
    {
     "data": {
      "image/png": "[encoded data removed]",
      "text/plain": [
       "<Figure size 640x480 with 1 Axes>"
      ]
     },
     "metadata": {},
     "output_type": "display_data"
    }
   ],
   "source": [
    "result = image.copy()\n",
    "hsv = cv2.cvtColor(image, cv2.COLOR_BGR2HSV)\n",
    "lower_blue = np.array([120, 0, 20])\n",
    "upper_blue = np.array([255, 255, 255])\n",
    "mask_blue = cv2.inRange(image, lower_blue, upper_blue)\n",
    "result_red = cv2.bitwise_and(image, image, mask = mask_blue)\n",
    "\n",
    "plt.imshow(result_red)\n",
    "plt.show()\n",
    "\n"
   ]
  },
  {
   "cell_type": "code",
   "execution_count": 31,
   "metadata": {},
   "outputs": [
    {
     "data": {
      "image/png": "[encoded data removed]",
      "text/plain": [
       "<Figure size 640x480 with 1 Axes>"
      ]
     },
     "metadata": {},
     "output_type": "display_data"
    }
   ],
   "source": [
    "lower1 = np.array([0, 100, 20])\n",
    "upper1 = np.array([10, 255, 255])\n",
    "\n",
    "lower2 = np.array([160,100,20])\n",
    "upper2 = np.array([179,255,255])\n",
    "\n",
    "lower_mask = cv2.inRange(hsv, lower1, upper1)\n",
    "upper_mask = cv2.inRange(hsv, lower2, upper2)\n",
    "\n",
    "full_mask = lower_mask + upper_mask\n",
    "\n",
    "result_blue = cv2.bitwise_and(result, result, mask = full_mask)\n",
    "plt.imshow(result_blue)\n",
    "plt.show()\n"
   ]
  },
  {
   "cell_type": "code",
   "execution_count": 32,
   "metadata": {},
   "outputs": [
    {
     "data": {
      "image/png": "[encoded data removed]",
      "text/plain": [
       "<Figure size 640x480 with 1 Axes>"
      ]
     },
     "metadata": {},
     "output_type": "display_data"
    }
   ],
   "source": [
    "spores = result_red + result_blue\n",
    "\n",
    "spgray = cv2.cvtColor(spores, cv2.COLOR_BGR2GRAY)\n",
    "\n",
    "blursp = cv2.GaussianBlur(spgray, (5, 5), 0)\n",
    "ret, thresh = cv2.threshold(blursp, 0, 255, cv2.THRESH_BINARY+cv2.THRESH_OTSU)\n",
    "\n",
    "plt.imshow(thresh)\n",
    "plt.show()"
   ]
  },
  {
   "cell_type": "code",
   "execution_count": 33,
   "metadata": {},
   "outputs": [
    {
     "data": {
      "image/png": "[encoded data removed]",
      "text/plain": [
       "<Figure size 640x480 with 1 Axes>"
      ]
     },
     "metadata": {},
     "output_type": "display_data"
    },
    {
     "data": {
      "image/png": "[encoded data removed]",
      "text/plain": [
       "<Figure size 640x480 with 1 Axes>"
      ]
     },
     "metadata": {},
     "output_type": "display_data"
    }
   ],
   "source": [
    "kernel = np.ones((3,3),np.uint8)\n",
    "opening = cv2.morphologyEx(thresh,cv2.MORPH_OPEN,kernel, iterations = 2)\n",
    "# sure background area\n",
    "sure_bg = cv2.dilate(opening,kernel,iterations=3)\n",
    "# Finding sure foreground area\n",
    "dist_transform = cv2.distanceTransform(opening,cv2.DIST_L2,5)\n",
    "ret, sure_fg = cv2.threshold(dist_transform,0.7*dist_transform.max(),255,0)\n",
    "# Finding unknown region\n",
    "sure_fg = np.uint8(sure_fg)\n",
    "unknown = cv2.subtract(sure_bg,sure_fg)\n",
    "ret, markers = cv2.connectedComponents(sure_fg)\n",
    "# Add one to all labels so that sure background is not 0, but 1\n",
    "markers = markers+1\n",
    "# Now, mark the region of unknown with zero\n",
    "markers[unknown==255] = 0\n",
    "\n",
    "plt.imshow(markers)\n",
    "plt.show()\n",
    "\n",
    "markers = cv2.watershed(spores,markers)\n",
    "spores[markers == -1] = [255,0,0]\n",
    "\n",
    "plt.imshow(markers)\n",
    "plt.show()"
   ]
  },
  {
   "attachments": {},
   "cell_type": "markdown",
   "metadata": {},
   "source": [
    "1. raw image input\n",
    "2. process for isolating different colored spores\n",
    "3. keep one grayscale background \n",
    "4. find centers of each different spore positions in:\n",
    "    a. red \n",
    "    b. blue\n",
    "    c. pink\n",
    "    d. blank (from the background)"
   ]
  },
  {
   "cell_type": "code",
   "execution_count": 34,
   "metadata": {},
   "outputs": [],
   "source": [
    "def red_spores(image):\n",
    "    hsv = cv2.cvtColor(image, cv2.COLOR_BGR2HSV)\n",
    "    res = image.copy()\n",
    "    lower_blue = np.array([120, 0, 20])\n",
    "    upper_blue = np.array([255, 255, 255])\n",
    "    mask_blue = cv2.inRange(image, lower_blue, upper_blue)\n",
    "    res = cv2.bitwise_and(image, image, mask = mask_blue)\n",
    "    return res\n",
    "\n",
    "def blue_spores(image):\n",
    "    hsv = cv2.cvtColor(image, cv2.COLOR_BGR2HSV)\n",
    "    lower1 = np.array([0, 100, 20])\n",
    "    upper1 = np.array([10, 255, 255])\n",
    "\n",
    "    lower2 = np.array([160,100,20])\n",
    "    upper2 = np.array([179,255,255])\n",
    "\n",
    "    lower_mask = cv2.inRange(hsv, lower1, upper1)\n",
    "    upper_mask = cv2.inRange(hsv, lower2, upper2)\n",
    "\n",
    "    full_mask = lower_mask + upper_mask\n",
    "\n",
    "    res = cv2.bitwise_and(result, result, mask = full_mask)\n",
    "    return res\n",
    "\n",
    "def pink_spores(image):\n",
    "    hsv = cv2.cvtColor(image, cv2.COLOR_BGR2HSV)\n",
    "    lower_pink = np.array([140, 0, 255])\n",
    "    upper_pink = np.array([160, 255, 255])\n",
    "    mask_pink = cv2.inRange(image, lower_pink, upper_pink)\n",
    "    res = cv2.bitwise_and(image, image, mask = mask_pink)\n",
    "    return res\n"
   ]
  },
  {
   "cell_type": "code",
   "execution_count": 18,
   "metadata": {},
   "outputs": [],
   "source": [
    "def find_centers(image):\n",
    "\tgray = cv2.cvtColor(image, cv2.COLOR_BGR2GRAY)\n",
    "\n",
    "\tblur = cv2.GaussianBlur(gray, (5, 5), 0)\n",
    "\tret, thresh = cv2.threshold(blur, 0, 255, cv2.THRESH_BINARY+cv2.THRESH_OTSU)\n",
    "\n",
    "\tplt.imshow(thresh)\n",
    "\tplt.title('threshold image')\n",
    "\tplt.show()\n",
    "\n",
    "\tkernel = np.ones((3,3),np.uint8)\n",
    "\topening = cv2.morphologyEx(thresh,cv2.MORPH_OPEN,kernel, iterations = 2)\n",
    "\t# sure background area\n",
    "\tsure_bg = cv2.dilate(opening,kernel,iterations=3)\n",
    "\t# Finding sure foreground area\n",
    "\tdist_transform = cv2.distanceTransform(opening,cv2.DIST_L2,5)\n",
    "\tret, sure_fg = cv2.threshold(dist_transform,0.7*dist_transform.max(),255,0)\n",
    "\t# Finding unknown region\n",
    "\tsure_fg = np.uint8(sure_fg)\n",
    "\tunknown = cv2.subtract(sure_bg,sure_fg)\n",
    "\tret, markers = cv2.connectedComponents(sure_fg)\n",
    "\t# Add one to all labels so that sure background is not 0, but 1\n",
    "\tmarkers = markers+1\n",
    "\t# Now, mark the region of unknown with zero\n",
    "\tmarkers[unknown==255] = 0\n",
    "\n",
    "\tplt.imshow(markers)\n",
    "\tplt.show()\n",
    "\n",
    "\tmarkers = cv2.watershed(spores,markers)\n",
    "\tspores[markers == -1] = [255,0,0]\n",
    "\n",
    "\tplt.imshow(markers)\n",
    "\tplt.title('masks from watershed segmentation')\n",
    "\tplt.show()\n",
    "\t\n",
    "\tcenter_coords = []\n",
    "\tfor marker in np.unique(markers):\n",
    "\t\tif marker == 0:\n",
    "\t\t\tcontinue\n",
    "\t\t# otherwise, allocate memory for the label region and draw\n",
    "\t\t# it on the mask\n",
    "\t\tmask = np.zeros(spgray.shape, dtype=\"uint8\")\n",
    "\t\tmask[markers == marker] = 255\n",
    "\t\t# detect contours in the mask and grab the largest one\n",
    "\t\tcntrs = cv2.findContours(mask.copy(), cv2.RETR_EXTERNAL,\n",
    "\t\t\tcv2.CHAIN_APPROX_SIMPLE)\n",
    "\t\tcntrs = imutils.grab_contours(cntrs)\n",
    "\t\tc = max(cntrs, key=cv2.contourArea)\n",
    "\t\t# draw a circle enclosing the object\n",
    "\t\t((x, y), r) = cv2.minEnclosingCircle(c)\n",
    "\t\tcv2.circle(spores, (int(x), int(y)), int(r), (0, 255, 0), 2)\n",
    "\t\t# cv2.putText(spores, \"#{}\".format(marker), (int(x) - 10, int(y)),cv2.FONT_HERSHEY_SIMPLEX, 0.6, (0, 0, 255), 2)\n",
    "\t\tcenter_coords.append((x, y))\n",
    "\t\n",
    "\tcenter_coords = np.unique(center_coords)\n",
    "\treturn center_coords\n",
    "\n",
    "\n",
    "# plt.imshow(spores)\n",
    "# plt.show()\n",
    "\n"
   ]
  },
  {
   "attachments": {},
   "cell_type": "markdown",
   "metadata": {},
   "source": [
    "find spore centers \n",
    "\n",
    "the catch is to isolate blank positions cell centers\n",
    "\n",
    "either use the fact that theres one less entry in the center_coords array \n",
    "or try to find the spore positions in grayscale of the complete image with background \n",
    "and then try to eliminate the existing spore centers by having a buffer around the centers \n",
    "returned by the find_centers function. \n",
    "\n",
    "\n"
   ]
  },
  {
   "cell_type": "code",
   "execution_count": 29,
   "metadata": {},
   "outputs": [
    {
     "ename": "error",
     "evalue": "OpenCV(4.7.0) /Users/xperience/GHA-OCV-Python/_work/opencv-python/opencv-python/opencv/modules/core/src/arithm.cpp:230: error: (-215:Assertion failed) (mtype == CV_8U || mtype == CV_8S) && _mask.sameSize(*psrc1) in function 'binary_op'\n",
     "output_type": "error",
     "traceback": [
      "\u001b[0;31m---------------------------------------------------------------------------\u001b[0m",
      "\u001b[0;31merror\u001b[0m                                     Traceback (most recent call last)",
      "Cell \u001b[0;32mIn[29], line 2\u001b[0m\n\u001b[1;32m      1\u001b[0m spores_red \u001b[39m=\u001b[39m red_spores(image)\n\u001b[0;32m----> 2\u001b[0m spores_blue \u001b[39m=\u001b[39m blue_spores(image)\n\u001b[1;32m      3\u001b[0m spores_pink \u001b[39m=\u001b[39m pink_spores(image)\n\u001b[1;32m      5\u001b[0m plt\u001b[39m.\u001b[39msubplot(\u001b[39m1\u001b[39m, \u001b[39m3\u001b[39m, \u001b[39m1\u001b[39m)\n",
      "Cell \u001b[0;32mIn[21], line 23\u001b[0m, in \u001b[0;36mblue_spores\u001b[0;34m(image)\u001b[0m\n\u001b[1;32m     19\u001b[0m upper_mask \u001b[39m=\u001b[39m cv2\u001b[39m.\u001b[39minRange(hsv, lower2, upper2)\n\u001b[1;32m     21\u001b[0m full_mask \u001b[39m=\u001b[39m lower_mask \u001b[39m+\u001b[39m upper_mask\n\u001b[0;32m---> 23\u001b[0m res \u001b[39m=\u001b[39m cv2\u001b[39m.\u001b[39;49mbitwise_and(result, result, mask \u001b[39m=\u001b[39;49m full_mask)\n\u001b[1;32m     24\u001b[0m \u001b[39mreturn\u001b[39;00m res\n",
      "\u001b[0;31merror\u001b[0m: OpenCV(4.7.0) /Users/xperience/GHA-OCV-Python/_work/opencv-python/opencv-python/opencv/modules/core/src/arithm.cpp:230: error: (-215:Assertion failed) (mtype == CV_8U || mtype == CV_8S) && _mask.sameSize(*psrc1) in function 'binary_op'\n"
     ]
    }
   ],
   "source": [
    "spores_red = red_spores(image)\n",
    "spores_blue = blue_spores(image)\n",
    "spores_pink = pink_spores(image)\n",
    "\n",
    "plt.subplot(1, 3, 1)\n",
    "plt.imshow(spores_red)\n",
    "plt.title('Red Spores')\n",
    "plt.subplot(1, 3, 2)\n",
    "plt.imshow(spores_blue)\n",
    "plt.title('Blue Spores')\n",
    "plt.subplot(1, 3, 3)\n",
    "plt.imshow(spores_pink)\n",
    "plt.title('Pink Spores')\n",
    "plt.show()\n",
    "\n",
    "\n",
    "# red_centers = find_centers(spores_red)\n",
    "# blue_centers = find_centers(spores_blue)\n",
    "# pink_centers = find_centers(spores_pink)\n",
    "\n"
   ]
  },
  {
   "cell_type": "code",
   "execution_count": null,
   "metadata": {},
   "outputs": [
    {
     "data": {
      "image/png": "[encoded data removed]",
      "text/plain": [
       "<Figure size 640x480 with 1 Axes>"
      ]
     },
     "metadata": {},
     "output_type": "display_data"
    }
   ],
   "source": [
    "blur = cv2.bilateralFilter(result_blue,9,75,75)\n",
    "blur = cv2.cvtColor(blur, cv2.COLOR_BGR2GRAY)\n",
    "sv = cv2.Sobel(blur, cv2.CV_64F, 1, 0, ksize=5)\n",
    "sh = cv2.Sobel(blur, cv2.CV_64F, 0, 1, ksize=5)\n",
    "sobel = sv + sh\n",
    "# plt.imshow(sobel)\n",
    "# plt.show()\n",
    "\n",
    "temp = np.uint8(result_red)\n",
    "spore_edges = cv2.Canny(temp, 265, 20)\n",
    "plt.imshow(spore_edges, cmap='gray')\n",
    "plt.show()\n"
   ]
  },
  {
   "cell_type": "code",
   "execution_count": null,
   "metadata": {},
   "outputs": [],
   "source": [
    "output = spore_edges.copy()\n",
    "\n",
    "red_circles = cv2.HoughCircles(spore_edges, cv2.HOUGH_GRADIENT, 1, 20, param1 = 50, param2=30, minRadius=0, maxRadius=50)\n",
    "if red_circles is not None:\n",
    "    red_circles = np.round(red_circles[0, :]).astype(\"int\")\n",
    "    for (x, y, r) in red_circles:\n",
    "        cv2.circle(output, (x, y), 0, (0, 255, 0), 4)\n",
    "\n",
    "    plt.imshow(output)\n",
    "    plt.show()"
   ]
  }
 ],
 "metadata": {
  "kernelspec": {
   "display_name": "Python 3",
   "language": "python",
   "name": "python3"
  },
  "language_info": {
   "codemirror_mode": {
    "name": "ipython",
    "version": 3
   },
   "file_extension": ".py",
   "mimetype": "text/x-python",
   "name": "python",
   "nbconvert_exporter": "python",
   "pygments_lexer": "ipython3",
   "version": "3.11.1"
  },
  "orig_nbformat": 4
 },
 "nbformat": 4,
 "nbformat_minor": 2
}
